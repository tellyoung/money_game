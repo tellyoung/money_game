{
 "cells": [
  {
   "cell_type": "code",
   "execution_count": 6,
   "metadata": {
    "execution": {
     "iopub.execute_input": "2025-04-13T12:04:26.474372Z",
     "iopub.status.busy": "2025-04-13T12:04:26.473843Z",
     "iopub.status.idle": "2025-04-13T12:04:26.535533Z",
     "shell.execute_reply": "2025-04-13T12:04:26.535245Z",
     "shell.execute_reply.started": "2025-04-13T12:04:26.474343Z"
    },
    "scrolled": true
   },
   "outputs": [
    {
     "data": {
      "text/html": [
       "<pre style=\"white-space:pre;overflow-x:auto;line-height:normal;font-family:Menlo,'DejaVu Sans Mono',consolas,'Courier New',monospace\">2025-04-13 20:12:41,075<span style=\"color: #767676; text-decoration-color: #767676\"> - </span><span style=\"color: #d787ff; text-decoration-color: #d787ff\">freqtrade.configuration.load_config</span><span style=\"color: #767676; text-decoration-color: #767676\"> - </span><span style=\"color: #000080; text-decoration-color: #000080\">INFO</span><span style=\"color: #767676; text-decoration-color: #767676\"> - </span>Using config: \n",
       "/Users/yutieyang/Documents/yuty/yuty_projects/money_game/Trading/user_data/configs/config_test_futrue_IntradayMomentum.json ...\n",
       "</pre>\n"
      ],
      "text/plain": [
       "2025-04-13 20:12:41,075\u001b[38;5;243m - \u001b[0m\u001b[38;5;177mfreqtrade.configuration.load_config\u001b[0m\u001b[38;5;243m - \u001b[0m\u001b[34mINFO\u001b[0m\u001b[38;5;243m - \u001b[0mUsing config: \n",
       "/Users/yutieyang/Documents/yuty/yuty_projects/money_game/Trading/user_data/configs/config_test_futrue_IntradayMomentum.json ...\n"
      ]
     },
     "metadata": {},
     "output_type": "display_data"
    },
    {
     "data": {
      "text/html": [
       "<pre style=\"white-space:pre;overflow-x:auto;line-height:normal;font-family:Menlo,'DejaVu Sans Mono',consolas,'Courier New',monospace\">2025-04-13 20:12:41,080<span style=\"color: #767676; text-decoration-color: #767676\"> - </span><span style=\"color: #d787ff; text-decoration-color: #d787ff\">freqtrade.loggers</span><span style=\"color: #767676; text-decoration-color: #767676\"> - </span><span style=\"color: #000080; text-decoration-color: #000080\">INFO</span><span style=\"color: #767676; text-decoration-color: #767676\"> - </span>Enabling colorized output.\n",
       "</pre>\n"
      ],
      "text/plain": [
       "2025-04-13 20:12:41,080\u001b[38;5;243m - \u001b[0m\u001b[38;5;177mfreqtrade.loggers\u001b[0m\u001b[38;5;243m - \u001b[0m\u001b[34mINFO\u001b[0m\u001b[38;5;243m - \u001b[0mEnabling colorized output.\n"
      ]
     },
     "metadata": {},
     "output_type": "display_data"
    },
    {
     "data": {
      "text/html": [
       "<pre style=\"white-space:pre;overflow-x:auto;line-height:normal;font-family:Menlo,'DejaVu Sans Mono',consolas,'Courier New',monospace\">2025-04-13 20:12:41,081<span style=\"color: #767676; text-decoration-color: #767676\"> - </span><span style=\"color: #d787ff; text-decoration-color: #d787ff\">root</span><span style=\"color: #767676; text-decoration-color: #767676\"> - </span><span style=\"color: #000080; text-decoration-color: #000080\">INFO</span><span style=\"color: #767676; text-decoration-color: #767676\"> - </span>Logfile configured\n",
       "</pre>\n"
      ],
      "text/plain": [
       "2025-04-13 20:12:41,081\u001b[38;5;243m - \u001b[0m\u001b[38;5;177mroot\u001b[0m\u001b[38;5;243m - \u001b[0m\u001b[34mINFO\u001b[0m\u001b[38;5;243m - \u001b[0mLogfile configured\n"
      ]
     },
     "metadata": {},
     "output_type": "display_data"
    },
    {
     "data": {
      "text/html": [
       "<pre style=\"white-space:pre;overflow-x:auto;line-height:normal;font-family:Menlo,'DejaVu Sans Mono',consolas,'Courier New',monospace\">2025-04-13 20:12:41,082<span style=\"color: #767676; text-decoration-color: #767676\"> - </span><span style=\"color: #d787ff; text-decoration-color: #d787ff\">freqtrade.loggers</span><span style=\"color: #767676; text-decoration-color: #767676\"> - </span><span style=\"color: #000080; text-decoration-color: #000080\">INFO</span><span style=\"color: #767676; text-decoration-color: #767676\"> - </span>Verbosity set to 0\n",
       "</pre>\n"
      ],
      "text/plain": [
       "2025-04-13 20:12:41,082\u001b[38;5;243m - \u001b[0m\u001b[38;5;177mfreqtrade.loggers\u001b[0m\u001b[38;5;243m - \u001b[0m\u001b[34mINFO\u001b[0m\u001b[38;5;243m - \u001b[0mVerbosity set to 0\n"
      ]
     },
     "metadata": {},
     "output_type": "display_data"
    },
    {
     "data": {
      "text/html": [
       "<pre style=\"white-space:pre;overflow-x:auto;line-height:normal;font-family:Menlo,'DejaVu Sans Mono',consolas,'Courier New',monospace\">2025-04-13 20:12:41,084<span style=\"color: #767676; text-decoration-color: #767676\"> - </span><span style=\"color: #d787ff; text-decoration-color: #d787ff\">freqtrade.configuration.configuration</span><span style=\"color: #767676; text-decoration-color: #767676\"> - </span><span style=\"color: #000080; text-decoration-color: #000080\">INFO</span><span style=\"color: #767676; text-decoration-color: #767676\"> - </span>Using user-data directory: /Users/yutieyang/Documents/yuty/yuty_projects/money_game/Trading/user_data ...\n",
       "</pre>\n"
      ],
      "text/plain": [
       "2025-04-13 20:12:41,084\u001b[38;5;243m - \u001b[0m\u001b[38;5;177mfreqtrade.configuration.configuration\u001b[0m\u001b[38;5;243m - \u001b[0m\u001b[34mINFO\u001b[0m\u001b[38;5;243m - \u001b[0mUsing user-data directory: /Users/yutieyang/Documents/yuty/yuty_projects/money_game/Trading/user_data ...\n"
      ]
     },
     "metadata": {},
     "output_type": "display_data"
    },
    {
     "data": {
      "text/html": [
       "<pre style=\"white-space:pre;overflow-x:auto;line-height:normal;font-family:Menlo,'DejaVu Sans Mono',consolas,'Courier New',monospace\">2025-04-13 20:12:41,085<span style=\"color: #767676; text-decoration-color: #767676\"> - </span><span style=\"color: #d787ff; text-decoration-color: #d787ff\">freqtrade.configuration.configuration</span><span style=\"color: #767676; text-decoration-color: #767676\"> - </span><span style=\"color: #000080; text-decoration-color: #000080\">INFO</span><span style=\"color: #767676; text-decoration-color: #767676\"> - </span>Using data directory: /Users/yutieyang/Documents/yuty/yuty_projects/money_game/Trading/user_data/data/binance ...\n",
       "</pre>\n"
      ],
      "text/plain": [
       "2025-04-13 20:12:41,085\u001b[38;5;243m - \u001b[0m\u001b[38;5;177mfreqtrade.configuration.configuration\u001b[0m\u001b[38;5;243m - \u001b[0m\u001b[34mINFO\u001b[0m\u001b[38;5;243m - \u001b[0mUsing data directory: /Users/yutieyang/Documents/yuty/yuty_projects/money_game/Trading/user_data/data/binance ...\n"
      ]
     },
     "metadata": {},
     "output_type": "display_data"
    },
    {
     "data": {
      "text/html": [
       "<pre style=\"white-space:pre;overflow-x:auto;line-height:normal;font-family:Menlo,'DejaVu Sans Mono',consolas,'Courier New',monospace\">2025-04-13 20:12:41,087<span style=\"color: #767676; text-decoration-color: #767676\"> - </span><span style=\"color: #d787ff; text-decoration-color: #d787ff\">freqtrade.exchange.check_exchange</span><span style=\"color: #767676; text-decoration-color: #767676\"> - </span><span style=\"color: #000080; text-decoration-color: #000080\">INFO</span><span style=\"color: #767676; text-decoration-color: #767676\"> - </span>Checking exchange...\n",
       "</pre>\n"
      ],
      "text/plain": [
       "2025-04-13 20:12:41,087\u001b[38;5;243m - \u001b[0m\u001b[38;5;177mfreqtrade.exchange.check_exchange\u001b[0m\u001b[38;5;243m - \u001b[0m\u001b[34mINFO\u001b[0m\u001b[38;5;243m - \u001b[0mChecking exchange...\n"
      ]
     },
     "metadata": {},
     "output_type": "display_data"
    },
    {
     "data": {
      "text/html": [
       "<pre style=\"white-space:pre;overflow-x:auto;line-height:normal;font-family:Menlo,'DejaVu Sans Mono',consolas,'Courier New',monospace\">2025-04-13 20:12:41,099<span style=\"color: #767676; text-decoration-color: #767676\"> - </span><span style=\"color: #d787ff; text-decoration-color: #d787ff\">freqtrade.exchange.check_exchange</span><span style=\"color: #767676; text-decoration-color: #767676\"> - </span><span style=\"color: #000080; text-decoration-color: #000080\">INFO</span><span style=\"color: #767676; text-decoration-color: #767676\"> - </span>Exchange \"binance\" is officially supported by the Freqtrade development team.\n",
       "</pre>\n"
      ],
      "text/plain": [
       "2025-04-13 20:12:41,099\u001b[38;5;243m - \u001b[0m\u001b[38;5;177mfreqtrade.exchange.check_exchange\u001b[0m\u001b[38;5;243m - \u001b[0m\u001b[34mINFO\u001b[0m\u001b[38;5;243m - \u001b[0mExchange \"binance\" is officially supported by the Freqtrade development team.\n"
      ]
     },
     "metadata": {},
     "output_type": "display_data"
    },
    {
     "data": {
      "text/html": [
       "<pre style=\"white-space:pre;overflow-x:auto;line-height:normal;font-family:Menlo,'DejaVu Sans Mono',consolas,'Courier New',monospace\">2025-04-13 20:12:41,100<span style=\"color: #767676; text-decoration-color: #767676\"> - </span><span style=\"color: #d787ff; text-decoration-color: #d787ff\">freqtrade.configuration.configuration</span><span style=\"color: #767676; text-decoration-color: #767676\"> - </span><span style=\"color: #000080; text-decoration-color: #000080\">INFO</span><span style=\"color: #767676; text-decoration-color: #767676\"> - </span>Using pairlist from configuration.\n",
       "</pre>\n"
      ],
      "text/plain": [
       "2025-04-13 20:12:41,100\u001b[38;5;243m - \u001b[0m\u001b[38;5;177mfreqtrade.configuration.configuration\u001b[0m\u001b[38;5;243m - \u001b[0m\u001b[34mINFO\u001b[0m\u001b[38;5;243m - \u001b[0mUsing pairlist from configuration.\n"
      ]
     },
     "metadata": {},
     "output_type": "display_data"
    }
   ],
   "source": [
    "import os\n",
    "from pathlib import Path\n",
    "from freqtrade.configuration import Configuration\n",
    "from freqtrade.data.dataprovider import DataProvider\n",
    "from freqtrade.resolvers import StrategyResolver\n",
    "\n",
    "project_root = \"/Users/yutieyang/Documents/yuty/yuty_projects/money_game/Trading/\"\n",
    "config_path = \"/Users/yutieyang/Documents/yuty/yuty_projects/money_game/Trading/user_data/configs/config_test_futrue_IntradayMomentum.json\"\n",
    "data_path = \"/Users/yutieyang/Documents/yuty/yuty_projects/money_game/Data/binance/Vol_top20_futrue_20250101_20250411\"\n",
    "strategy = \"IntradayMomentum\"\n",
    "\n",
    "os.chdir(project_root)\n",
    "config = Configuration.from_files([config_path])\n",
    "\n",
    "# Define some constants\n",
    "config[\"timeframe\"] = \"5m\"\n",
    "# Name of the strategy class\n",
    "config[\"strategy\"] = \"IntradayMomentum\"\n",
    "# Pair to analyze - Only use one pair here\n",
    "pair = \"BTC/USDT:USDT\"\n"
   ]
  },
  {
   "cell_type": "markdown",
   "metadata": {},
   "source": [
    "# Add Key Variables"
   ]
  },
  {
   "cell_type": "code",
   "execution_count": 22,
   "metadata": {
    "execution": {
     "iopub.execute_input": "2025-04-13T12:04:27.685108Z",
     "iopub.status.busy": "2025-04-13T12:04:27.684760Z",
     "iopub.status.idle": "2025-04-13T12:04:27.708178Z",
     "shell.execute_reply": "2025-04-13T12:04:27.707875Z",
     "shell.execute_reply.started": "2025-04-13T12:04:27.685078Z"
    }
   },
   "outputs": [
    {
     "name": "stdout",
     "output_type": "stream",
     "text": [
      "Loaded 29214 rows of data for BTC/USDT:USDT from /Users/yutieyang/Documents/yuty/yuty_projects/money_game/Data/binance/Vol_top20_futrue_20250101_20250411\n"
     ]
    },
    {
     "data": {
      "text/html": [
       "<div>\n",
       "<style scoped>\n",
       "    .dataframe tbody tr th:only-of-type {\n",
       "        vertical-align: middle;\n",
       "    }\n",
       "\n",
       "    .dataframe tbody tr th {\n",
       "        vertical-align: top;\n",
       "    }\n",
       "\n",
       "    .dataframe thead th {\n",
       "        text-align: right;\n",
       "    }\n",
       "</style>\n",
       "<table border=\"1\" class=\"dataframe\">\n",
       "  <thead>\n",
       "    <tr style=\"text-align: right;\">\n",
       "      <th></th>\n",
       "      <th>date</th>\n",
       "      <th>open</th>\n",
       "      <th>high</th>\n",
       "      <th>low</th>\n",
       "      <th>close</th>\n",
       "      <th>volume</th>\n",
       "    </tr>\n",
       "  </thead>\n",
       "  <tbody>\n",
       "    <tr>\n",
       "      <th>0</th>\n",
       "      <td>2025-01-01 00:00:00+00:00</td>\n",
       "      <td>93548.8</td>\n",
       "      <td>93690.0</td>\n",
       "      <td>93514.2</td>\n",
       "      <td>93648.4</td>\n",
       "      <td>341.604</td>\n",
       "    </tr>\n",
       "    <tr>\n",
       "      <th>1</th>\n",
       "      <td>2025-01-01 00:05:00+00:00</td>\n",
       "      <td>93648.3</td>\n",
       "      <td>93666.7</td>\n",
       "      <td>93576.9</td>\n",
       "      <td>93585.9</td>\n",
       "      <td>166.341</td>\n",
       "    </tr>\n",
       "    <tr>\n",
       "      <th>2</th>\n",
       "      <td>2025-01-01 00:10:00+00:00</td>\n",
       "      <td>93586.0</td>\n",
       "      <td>93637.2</td>\n",
       "      <td>93460.2</td>\n",
       "      <td>93631.2</td>\n",
       "      <td>480.204</td>\n",
       "    </tr>\n",
       "    <tr>\n",
       "      <th>3</th>\n",
       "      <td>2025-01-01 00:15:00+00:00</td>\n",
       "      <td>93631.2</td>\n",
       "      <td>93829.4</td>\n",
       "      <td>93588.0</td>\n",
       "      <td>93781.0</td>\n",
       "      <td>545.647</td>\n",
       "    </tr>\n",
       "    <tr>\n",
       "      <th>4</th>\n",
       "      <td>2025-01-01 00:20:00+00:00</td>\n",
       "      <td>93781.0</td>\n",
       "      <td>93885.0</td>\n",
       "      <td>93680.0</td>\n",
       "      <td>93712.0</td>\n",
       "      <td>392.042</td>\n",
       "    </tr>\n",
       "  </tbody>\n",
       "</table>\n",
       "</div>"
      ],
      "text/plain": [
       "                       date     open     high      low    close   volume\n",
       "0 2025-01-01 00:00:00+00:00  93548.8  93690.0  93514.2  93648.4  341.604\n",
       "1 2025-01-01 00:05:00+00:00  93648.3  93666.7  93576.9  93585.9  166.341\n",
       "2 2025-01-01 00:10:00+00:00  93586.0  93637.2  93460.2  93631.2  480.204\n",
       "3 2025-01-01 00:15:00+00:00  93631.2  93829.4  93588.0  93781.0  545.647\n",
       "4 2025-01-01 00:20:00+00:00  93781.0  93885.0  93680.0  93712.0  392.042"
      ]
     },
     "execution_count": 22,
     "metadata": {},
     "output_type": "execute_result"
    }
   ],
   "source": [
    "# Load data using values set above\n",
    "from freqtrade.data.history import load_pair_history\n",
    "from freqtrade.enums import CandleType\n",
    "\n",
    "\n",
    "candles = load_pair_history(\n",
    "    datadir=Path(data_path),\n",
    "    timeframe=config[\"timeframe\"],\n",
    "    pair=pair,\n",
    "    data_format=\"feather\",  # Make sure to update this to your data\n",
    "    candle_type=CandleType.FUTURES,\n",
    ")\n",
    "\n",
    "# Confirm success\n",
    "print(f\"Loaded {len(candles)} rows of data for {pair} from {data_path}\")\n",
    "candles.head()\n"
   ]
  },
  {
   "cell_type": "code",
   "execution_count": null,
   "metadata": {},
   "outputs": [],
   "source": [
    "import pandas as pd\n",
    "import numpy as np\n"
   ]
  },
  {
   "cell_type": "code",
   "execution_count": 27,
   "metadata": {},
   "outputs": [],
   "source": [
    "dataframe = candles\n",
    "\n",
    "# Calculate VWAP\n",
    "hlc = (dataframe['high'] + dataframe['low'] + dataframe['close']) / 3\n",
    "dataframe['vwap'] = (hlc * dataframe['volume']).cumsum() / dataframe['volume'].cumsum()\n",
    "\n",
    "# Calculate rolling mean and sigma\n",
    "dataframe['move_open'] = (dataframe['close'] / dataframe['open'] - 1).abs()\n",
    "dataframe['move_open_rolling_mean'] = dataframe['move_open'].rolling(window=14, min_periods=13).mean()\n",
    "dataframe['sigma_open'] = dataframe['move_open_rolling_mean'].shift(1)\n"
   ]
  },
  {
   "cell_type": "code",
   "execution_count": 29,
   "metadata": {},
   "outputs": [
    {
     "data": {
      "text/html": [
       "<div>\n",
       "<style scoped>\n",
       "    .dataframe tbody tr th:only-of-type {\n",
       "        vertical-align: middle;\n",
       "    }\n",
       "\n",
       "    .dataframe tbody tr th {\n",
       "        vertical-align: top;\n",
       "    }\n",
       "\n",
       "    .dataframe thead th {\n",
       "        text-align: right;\n",
       "    }\n",
       "</style>\n",
       "<table border=\"1\" class=\"dataframe\">\n",
       "  <thead>\n",
       "    <tr style=\"text-align: right;\">\n",
       "      <th></th>\n",
       "      <th>open</th>\n",
       "      <th>high</th>\n",
       "      <th>low</th>\n",
       "      <th>close</th>\n",
       "      <th>volume</th>\n",
       "      <th>day</th>\n",
       "      <th>move_open</th>\n",
       "      <th>vwap</th>\n",
       "      <th>spy_dvol</th>\n",
       "      <th>min_from_open</th>\n",
       "      <th>minute_of_day</th>\n",
       "      <th>move_open_rolling_mean</th>\n",
       "      <th>sigma_open</th>\n",
       "    </tr>\n",
       "    <tr>\n",
       "      <th>caldt</th>\n",
       "      <th></th>\n",
       "      <th></th>\n",
       "      <th></th>\n",
       "      <th></th>\n",
       "      <th></th>\n",
       "      <th></th>\n",
       "      <th></th>\n",
       "      <th></th>\n",
       "      <th></th>\n",
       "      <th></th>\n",
       "      <th></th>\n",
       "      <th></th>\n",
       "      <th></th>\n",
       "    </tr>\n",
       "  </thead>\n",
       "  <tbody>\n",
       "    <tr>\n",
       "      <th>2025-04-12 10:05:00+00:00</th>\n",
       "      <td>83473.6</td>\n",
       "      <td>83533.1</td>\n",
       "      <td>83419.0</td>\n",
       "      <td>83525.4</td>\n",
       "      <td>165.532</td>\n",
       "      <td>2025-04-12</td>\n",
       "      <td>0.000621</td>\n",
       "      <td>90582.345905</td>\n",
       "      <td>0.035504</td>\n",
       "      <td>36.0</td>\n",
       "      <td>36</td>\n",
       "      <td>0.000805</td>\n",
       "      <td>0.000795</td>\n",
       "    </tr>\n",
       "    <tr>\n",
       "      <th>2025-04-12 10:10:00+00:00</th>\n",
       "      <td>83525.4</td>\n",
       "      <td>83533.3</td>\n",
       "      <td>83444.0</td>\n",
       "      <td>83452.3</td>\n",
       "      <td>106.052</td>\n",
       "      <td>2025-04-12</td>\n",
       "      <td>0.000875</td>\n",
       "      <td>90582.312619</td>\n",
       "      <td>0.035504</td>\n",
       "      <td>41.0</td>\n",
       "      <td>41</td>\n",
       "      <td>0.000755</td>\n",
       "      <td>0.000805</td>\n",
       "    </tr>\n",
       "    <tr>\n",
       "      <th>2025-04-12 10:15:00+00:00</th>\n",
       "      <td>83452.3</td>\n",
       "      <td>83469.9</td>\n",
       "      <td>83355.5</td>\n",
       "      <td>83363.2</td>\n",
       "      <td>237.412</td>\n",
       "      <td>2025-04-12</td>\n",
       "      <td>0.001068</td>\n",
       "      <td>90582.237262</td>\n",
       "      <td>0.035504</td>\n",
       "      <td>46.0</td>\n",
       "      <td>46</td>\n",
       "      <td>0.000779</td>\n",
       "      <td>0.000755</td>\n",
       "    </tr>\n",
       "    <tr>\n",
       "      <th>2025-04-12 10:20:00+00:00</th>\n",
       "      <td>83363.2</td>\n",
       "      <td>83428.1</td>\n",
       "      <td>83346.2</td>\n",
       "      <td>83421.9</td>\n",
       "      <td>307.204</td>\n",
       "      <td>2025-04-12</td>\n",
       "      <td>0.000704</td>\n",
       "      <td>90582.139789</td>\n",
       "      <td>0.035504</td>\n",
       "      <td>51.0</td>\n",
       "      <td>51</td>\n",
       "      <td>0.000665</td>\n",
       "      <td>0.000779</td>\n",
       "    </tr>\n",
       "    <tr>\n",
       "      <th>2025-04-12 10:25:00+00:00</th>\n",
       "      <td>83421.9</td>\n",
       "      <td>83481.6</td>\n",
       "      <td>83421.8</td>\n",
       "      <td>83441.6</td>\n",
       "      <td>144.664</td>\n",
       "      <td>2025-04-12</td>\n",
       "      <td>0.000236</td>\n",
       "      <td>90582.094207</td>\n",
       "      <td>0.035504</td>\n",
       "      <td>56.0</td>\n",
       "      <td>56</td>\n",
       "      <td>0.000660</td>\n",
       "      <td>0.000665</td>\n",
       "    </tr>\n",
       "  </tbody>\n",
       "</table>\n",
       "</div>"
      ],
      "text/plain": [
       "                              open     high      low    close   volume  \\\n",
       "caldt                                                                    \n",
       "2025-04-12 10:05:00+00:00  83473.6  83533.1  83419.0  83525.4  165.532   \n",
       "2025-04-12 10:10:00+00:00  83525.4  83533.3  83444.0  83452.3  106.052   \n",
       "2025-04-12 10:15:00+00:00  83452.3  83469.9  83355.5  83363.2  237.412   \n",
       "2025-04-12 10:20:00+00:00  83363.2  83428.1  83346.2  83421.9  307.204   \n",
       "2025-04-12 10:25:00+00:00  83421.9  83481.6  83421.8  83441.6  144.664   \n",
       "\n",
       "                                  day  move_open          vwap  spy_dvol  \\\n",
       "caldt                                                                      \n",
       "2025-04-12 10:05:00+00:00  2025-04-12   0.000621  90582.345905  0.035504   \n",
       "2025-04-12 10:10:00+00:00  2025-04-12   0.000875  90582.312619  0.035504   \n",
       "2025-04-12 10:15:00+00:00  2025-04-12   0.001068  90582.237262  0.035504   \n",
       "2025-04-12 10:20:00+00:00  2025-04-12   0.000704  90582.139789  0.035504   \n",
       "2025-04-12 10:25:00+00:00  2025-04-12   0.000236  90582.094207  0.035504   \n",
       "\n",
       "                           min_from_open  minute_of_day  \\\n",
       "caldt                                                     \n",
       "2025-04-12 10:05:00+00:00           36.0             36   \n",
       "2025-04-12 10:10:00+00:00           41.0             41   \n",
       "2025-04-12 10:15:00+00:00           46.0             46   \n",
       "2025-04-12 10:20:00+00:00           51.0             51   \n",
       "2025-04-12 10:25:00+00:00           56.0             56   \n",
       "\n",
       "                           move_open_rolling_mean  sigma_open  \n",
       "caldt                                                          \n",
       "2025-04-12 10:05:00+00:00                0.000805    0.000795  \n",
       "2025-04-12 10:10:00+00:00                0.000755    0.000805  \n",
       "2025-04-12 10:15:00+00:00                0.000779    0.000755  \n",
       "2025-04-12 10:20:00+00:00                0.000665    0.000779  \n",
       "2025-04-12 10:25:00+00:00                0.000660    0.000665  "
      ]
     },
     "execution_count": 29,
     "metadata": {},
     "output_type": "execute_result"
    }
   ],
   "source": [
    "dataframe.tail()\n"
   ]
  },
  {
   "cell_type": "markdown",
   "metadata": {
    "jp-MarkdownHeadingCollapsed": true
   },
   "source": [
    "## Load and run strategy\n",
    "* Rerun each time the strategy file is changed"
   ]
  },
  {
   "cell_type": "code",
   "execution_count": 5,
   "metadata": {
    "execution": {
     "iopub.execute_input": "2025-04-13T12:04:30.536915Z",
     "iopub.status.busy": "2025-04-13T12:04:30.536179Z",
     "iopub.status.idle": "2025-04-13T12:04:30.604735Z",
     "shell.execute_reply": "2025-04-13T12:04:30.604400Z",
     "shell.execute_reply.started": "2025-04-13T12:04:30.536875Z"
    },
    "scrolled": true
   },
   "outputs": [
    {
     "data": {
      "text/html": [
       "<pre style=\"white-space:pre;overflow-x:auto;line-height:normal;font-family:Menlo,'DejaVu Sans Mono',consolas,'Courier New',monospace\">2025-04-13 20:04:30,553<span style=\"color: #767676; text-decoration-color: #767676\"> - </span><span style=\"color: #d787ff; text-decoration-color: #d787ff\">freqtrade.resolvers.iresolver</span><span style=\"color: #767676; text-decoration-color: #767676\"> - </span><span style=\"color: #000080; text-decoration-color: #000080\">INFO</span><span style=\"color: #767676; text-decoration-color: #767676\"> - </span>Using resolved strategy IntradayMomentum from \n",
       "'/Users/yutieyang/Documents/yuty/yuty_projects/money_game/Trading/user_data/strategies/IntradayMomentum.py'...\n",
       "</pre>\n"
      ],
      "text/plain": [
       "2025-04-13 20:04:30,553\u001b[38;5;243m - \u001b[0m\u001b[38;5;177mfreqtrade.resolvers.iresolver\u001b[0m\u001b[38;5;243m - \u001b[0m\u001b[34mINFO\u001b[0m\u001b[38;5;243m - \u001b[0mUsing resolved strategy IntradayMomentum from \n",
       "'/Users/yutieyang/Documents/yuty/yuty_projects/money_game/Trading/user_data/strategies/IntradayMomentum.py'...\n"
      ]
     },
     "metadata": {},
     "output_type": "display_data"
    },
    {
     "data": {
      "text/html": [
       "<pre style=\"white-space:pre;overflow-x:auto;line-height:normal;font-family:Menlo,'DejaVu Sans Mono',consolas,'Courier New',monospace\">2025-04-13 20:04:30,554<span style=\"color: #767676; text-decoration-color: #767676\"> - </span><span style=\"color: #d787ff; text-decoration-color: #d787ff\">freqtrade.strategy.hyper</span><span style=\"color: #767676; text-decoration-color: #767676\"> - </span><span style=\"color: #000080; text-decoration-color: #000080\">INFO</span><span style=\"color: #767676; text-decoration-color: #767676\"> - </span>Found no parameter file.\n",
       "</pre>\n"
      ],
      "text/plain": [
       "2025-04-13 20:04:30,554\u001b[38;5;243m - \u001b[0m\u001b[38;5;177mfreqtrade.strategy.hyper\u001b[0m\u001b[38;5;243m - \u001b[0m\u001b[34mINFO\u001b[0m\u001b[38;5;243m - \u001b[0mFound no parameter file.\n"
      ]
     },
     "metadata": {},
     "output_type": "display_data"
    },
    {
     "data": {
      "text/html": [
       "<pre style=\"white-space:pre;overflow-x:auto;line-height:normal;font-family:Menlo,'DejaVu Sans Mono',consolas,'Courier New',monospace\">2025-04-13 20:04:30,555<span style=\"color: #767676; text-decoration-color: #767676\"> - </span><span style=\"color: #d787ff; text-decoration-color: #d787ff\">freqtrade.resolvers.strategy_resolver</span><span style=\"color: #767676; text-decoration-color: #767676\"> - </span><span style=\"color: #000080; text-decoration-color: #000080\">INFO</span><span style=\"color: #767676; text-decoration-color: #767676\"> - </span>Override strategy 'timeframe' with value in config file: 8h.\n",
       "</pre>\n"
      ],
      "text/plain": [
       "2025-04-13 20:04:30,555\u001b[38;5;243m - \u001b[0m\u001b[38;5;177mfreqtrade.resolvers.strategy_resolver\u001b[0m\u001b[38;5;243m - \u001b[0m\u001b[34mINFO\u001b[0m\u001b[38;5;243m - \u001b[0mOverride strategy 'timeframe' with value in config file: 8h.\n"
      ]
     },
     "metadata": {},
     "output_type": "display_data"
    },
    {
     "data": {
      "text/html": [
       "<pre style=\"white-space:pre;overflow-x:auto;line-height:normal;font-family:Menlo,'DejaVu Sans Mono',consolas,'Courier New',monospace\">2025-04-13 20:04:30,556<span style=\"color: #767676; text-decoration-color: #767676\"> - </span><span style=\"color: #d787ff; text-decoration-color: #d787ff\">freqtrade.resolvers.strategy_resolver</span><span style=\"color: #767676; text-decoration-color: #767676\"> - </span><span style=\"color: #000080; text-decoration-color: #000080\">INFO</span><span style=\"color: #767676; text-decoration-color: #767676\"> - </span>Override strategy 'stake_currency' with value in config file: USDT.\n",
       "</pre>\n"
      ],
      "text/plain": [
       "2025-04-13 20:04:30,556\u001b[38;5;243m - \u001b[0m\u001b[38;5;177mfreqtrade.resolvers.strategy_resolver\u001b[0m\u001b[38;5;243m - \u001b[0m\u001b[34mINFO\u001b[0m\u001b[38;5;243m - \u001b[0mOverride strategy 'stake_currency' with value in config file: USDT.\n"
      ]
     },
     "metadata": {},
     "output_type": "display_data"
    },
    {
     "data": {
      "text/html": [
       "<pre style=\"white-space:pre;overflow-x:auto;line-height:normal;font-family:Menlo,'DejaVu Sans Mono',consolas,'Courier New',monospace\">2025-04-13 20:04:30,557<span style=\"color: #767676; text-decoration-color: #767676\"> - </span><span style=\"color: #d787ff; text-decoration-color: #d787ff\">freqtrade.resolvers.strategy_resolver</span><span style=\"color: #767676; text-decoration-color: #767676\"> - </span><span style=\"color: #000080; text-decoration-color: #000080\">INFO</span><span style=\"color: #767676; text-decoration-color: #767676\"> - </span>Override strategy 'stake_amount' with value in config file: unlimited.\n",
       "</pre>\n"
      ],
      "text/plain": [
       "2025-04-13 20:04:30,557\u001b[38;5;243m - \u001b[0m\u001b[38;5;177mfreqtrade.resolvers.strategy_resolver\u001b[0m\u001b[38;5;243m - \u001b[0m\u001b[34mINFO\u001b[0m\u001b[38;5;243m - \u001b[0mOverride strategy 'stake_amount' with value in config file: unlimited.\n"
      ]
     },
     "metadata": {},
     "output_type": "display_data"
    },
    {
     "data": {
      "text/html": [
       "<pre style=\"white-space:pre;overflow-x:auto;line-height:normal;font-family:Menlo,'DejaVu Sans Mono',consolas,'Courier New',monospace\">2025-04-13 20:04:30,558<span style=\"color: #767676; text-decoration-color: #767676\"> - </span><span style=\"color: #d787ff; text-decoration-color: #d787ff\">freqtrade.resolvers.strategy_resolver</span><span style=\"color: #767676; text-decoration-color: #767676\"> - </span><span style=\"color: #000080; text-decoration-color: #000080\">INFO</span><span style=\"color: #767676; text-decoration-color: #767676\"> - </span>Override strategy 'unfilledtimeout' with value in config file: {'entry': 10, 'exit': 10, 'exit_timeout_count': 0, 'unit': \n",
       "'minutes'}.\n",
       "</pre>\n"
      ],
      "text/plain": [
       "2025-04-13 20:04:30,558\u001b[38;5;243m - \u001b[0m\u001b[38;5;177mfreqtrade.resolvers.strategy_resolver\u001b[0m\u001b[38;5;243m - \u001b[0m\u001b[34mINFO\u001b[0m\u001b[38;5;243m - \u001b[0mOverride strategy 'unfilledtimeout' with value in config file: {'entry': 10, 'exit': 10, 'exit_timeout_count': 0, 'unit': \n",
       "'minutes'}.\n"
      ]
     },
     "metadata": {},
     "output_type": "display_data"
    },
    {
     "data": {
      "text/html": [
       "<pre style=\"white-space:pre;overflow-x:auto;line-height:normal;font-family:Menlo,'DejaVu Sans Mono',consolas,'Courier New',monospace\">2025-04-13 20:04:30,559<span style=\"color: #767676; text-decoration-color: #767676\"> - </span><span style=\"color: #d787ff; text-decoration-color: #d787ff\">freqtrade.resolvers.strategy_resolver</span><span style=\"color: #767676; text-decoration-color: #767676\"> - </span><span style=\"color: #000080; text-decoration-color: #000080\">INFO</span><span style=\"color: #767676; text-decoration-color: #767676\"> - </span>Override strategy 'max_open_trades' with value in config file: 5.\n",
       "</pre>\n"
      ],
      "text/plain": [
       "2025-04-13 20:04:30,559\u001b[38;5;243m - \u001b[0m\u001b[38;5;177mfreqtrade.resolvers.strategy_resolver\u001b[0m\u001b[38;5;243m - \u001b[0m\u001b[34mINFO\u001b[0m\u001b[38;5;243m - \u001b[0mOverride strategy 'max_open_trades' with value in config file: 5.\n"
      ]
     },
     "metadata": {},
     "output_type": "display_data"
    },
    {
     "data": {
      "text/html": [
       "<pre style=\"white-space:pre;overflow-x:auto;line-height:normal;font-family:Menlo,'DejaVu Sans Mono',consolas,'Courier New',monospace\">2025-04-13 20:04:30,560<span style=\"color: #767676; text-decoration-color: #767676\"> - </span><span style=\"color: #d787ff; text-decoration-color: #d787ff\">freqtrade.resolvers.strategy_resolver</span><span style=\"color: #767676; text-decoration-color: #767676\"> - </span><span style=\"color: #000080; text-decoration-color: #000080\">INFO</span><span style=\"color: #767676; text-decoration-color: #767676\"> - </span>Strategy using minimal_roi: {'0': 0.15, '30': 0.1, '60': 0.05}\n",
       "</pre>\n"
      ],
      "text/plain": [
       "2025-04-13 20:04:30,560\u001b[38;5;243m - \u001b[0m\u001b[38;5;177mfreqtrade.resolvers.strategy_resolver\u001b[0m\u001b[38;5;243m - \u001b[0m\u001b[34mINFO\u001b[0m\u001b[38;5;243m - \u001b[0mStrategy using minimal_roi: {'0': 0.15, '30': 0.1, '60': 0.05}\n"
      ]
     },
     "metadata": {},
     "output_type": "display_data"
    },
    {
     "data": {
      "text/html": [
       "<pre style=\"white-space:pre;overflow-x:auto;line-height:normal;font-family:Menlo,'DejaVu Sans Mono',consolas,'Courier New',monospace\">2025-04-13 20:04:30,561<span style=\"color: #767676; text-decoration-color: #767676\"> - </span><span style=\"color: #d787ff; text-decoration-color: #d787ff\">freqtrade.resolvers.strategy_resolver</span><span style=\"color: #767676; text-decoration-color: #767676\"> - </span><span style=\"color: #000080; text-decoration-color: #000080\">INFO</span><span style=\"color: #767676; text-decoration-color: #767676\"> - </span>Strategy using timeframe: 8h\n",
       "</pre>\n"
      ],
      "text/plain": [
       "2025-04-13 20:04:30,561\u001b[38;5;243m - \u001b[0m\u001b[38;5;177mfreqtrade.resolvers.strategy_resolver\u001b[0m\u001b[38;5;243m - \u001b[0m\u001b[34mINFO\u001b[0m\u001b[38;5;243m - \u001b[0mStrategy using timeframe: 8h\n"
      ]
     },
     "metadata": {},
     "output_type": "display_data"
    },
    {
     "data": {
      "text/html": [
       "<pre style=\"white-space:pre;overflow-x:auto;line-height:normal;font-family:Menlo,'DejaVu Sans Mono',consolas,'Courier New',monospace\">2025-04-13 20:04:30,561<span style=\"color: #767676; text-decoration-color: #767676\"> - </span><span style=\"color: #d787ff; text-decoration-color: #d787ff\">freqtrade.resolvers.strategy_resolver</span><span style=\"color: #767676; text-decoration-color: #767676\"> - </span><span style=\"color: #000080; text-decoration-color: #000080\">INFO</span><span style=\"color: #767676; text-decoration-color: #767676\"> - </span>Strategy using stoploss: -0.265\n",
       "</pre>\n"
      ],
      "text/plain": [
       "2025-04-13 20:04:30,561\u001b[38;5;243m - \u001b[0m\u001b[38;5;177mfreqtrade.resolvers.strategy_resolver\u001b[0m\u001b[38;5;243m - \u001b[0m\u001b[34mINFO\u001b[0m\u001b[38;5;243m - \u001b[0mStrategy using stoploss: -0.265\n"
      ]
     },
     "metadata": {},
     "output_type": "display_data"
    },
    {
     "data": {
      "text/html": [
       "<pre style=\"white-space:pre;overflow-x:auto;line-height:normal;font-family:Menlo,'DejaVu Sans Mono',consolas,'Courier New',monospace\">2025-04-13 20:04:30,562<span style=\"color: #767676; text-decoration-color: #767676\"> - </span><span style=\"color: #d787ff; text-decoration-color: #d787ff\">freqtrade.resolvers.strategy_resolver</span><span style=\"color: #767676; text-decoration-color: #767676\"> - </span><span style=\"color: #000080; text-decoration-color: #000080\">INFO</span><span style=\"color: #767676; text-decoration-color: #767676\"> - </span>Strategy using trailing_stop: True\n",
       "</pre>\n"
      ],
      "text/plain": [
       "2025-04-13 20:04:30,562\u001b[38;5;243m - \u001b[0m\u001b[38;5;177mfreqtrade.resolvers.strategy_resolver\u001b[0m\u001b[38;5;243m - \u001b[0m\u001b[34mINFO\u001b[0m\u001b[38;5;243m - \u001b[0mStrategy using trailing_stop: True\n"
      ]
     },
     "metadata": {},
     "output_type": "display_data"
    },
    {
     "data": {
      "text/html": [
       "<pre style=\"white-space:pre;overflow-x:auto;line-height:normal;font-family:Menlo,'DejaVu Sans Mono',consolas,'Courier New',monospace\">2025-04-13 20:04:30,563<span style=\"color: #767676; text-decoration-color: #767676\"> - </span><span style=\"color: #d787ff; text-decoration-color: #d787ff\">freqtrade.resolvers.strategy_resolver</span><span style=\"color: #767676; text-decoration-color: #767676\"> - </span><span style=\"color: #000080; text-decoration-color: #000080\">INFO</span><span style=\"color: #767676; text-decoration-color: #767676\"> - </span>Strategy using trailing_stop_positive: 0.05\n",
       "</pre>\n"
      ],
      "text/plain": [
       "2025-04-13 20:04:30,563\u001b[38;5;243m - \u001b[0m\u001b[38;5;177mfreqtrade.resolvers.strategy_resolver\u001b[0m\u001b[38;5;243m - \u001b[0m\u001b[34mINFO\u001b[0m\u001b[38;5;243m - \u001b[0mStrategy using trailing_stop_positive: 0.05\n"
      ]
     },
     "metadata": {},
     "output_type": "display_data"
    },
    {
     "data": {
      "text/html": [
       "<pre style=\"white-space:pre;overflow-x:auto;line-height:normal;font-family:Menlo,'DejaVu Sans Mono',consolas,'Courier New',monospace\">2025-04-13 20:04:30,564<span style=\"color: #767676; text-decoration-color: #767676\"> - </span><span style=\"color: #d787ff; text-decoration-color: #d787ff\">freqtrade.resolvers.strategy_resolver</span><span style=\"color: #767676; text-decoration-color: #767676\"> - </span><span style=\"color: #000080; text-decoration-color: #000080\">INFO</span><span style=\"color: #767676; text-decoration-color: #767676\"> - </span>Strategy using trailing_stop_positive_offset: 0.1\n",
       "</pre>\n"
      ],
      "text/plain": [
       "2025-04-13 20:04:30,564\u001b[38;5;243m - \u001b[0m\u001b[38;5;177mfreqtrade.resolvers.strategy_resolver\u001b[0m\u001b[38;5;243m - \u001b[0m\u001b[34mINFO\u001b[0m\u001b[38;5;243m - \u001b[0mStrategy using trailing_stop_positive_offset: 0.1\n"
      ]
     },
     "metadata": {},
     "output_type": "display_data"
    },
    {
     "data": {
      "text/html": [
       "<pre style=\"white-space:pre;overflow-x:auto;line-height:normal;font-family:Menlo,'DejaVu Sans Mono',consolas,'Courier New',monospace\">2025-04-13 20:04:30,565<span style=\"color: #767676; text-decoration-color: #767676\"> - </span><span style=\"color: #d787ff; text-decoration-color: #d787ff\">freqtrade.resolvers.strategy_resolver</span><span style=\"color: #767676; text-decoration-color: #767676\"> - </span><span style=\"color: #000080; text-decoration-color: #000080\">INFO</span><span style=\"color: #767676; text-decoration-color: #767676\"> - </span>Strategy using trailing_only_offset_is_reached: False\n",
       "</pre>\n"
      ],
      "text/plain": [
       "2025-04-13 20:04:30,565\u001b[38;5;243m - \u001b[0m\u001b[38;5;177mfreqtrade.resolvers.strategy_resolver\u001b[0m\u001b[38;5;243m - \u001b[0m\u001b[34mINFO\u001b[0m\u001b[38;5;243m - \u001b[0mStrategy using trailing_only_offset_is_reached: False\n"
      ]
     },
     "metadata": {},
     "output_type": "display_data"
    },
    {
     "data": {
      "text/html": [
       "<pre style=\"white-space:pre;overflow-x:auto;line-height:normal;font-family:Menlo,'DejaVu Sans Mono',consolas,'Courier New',monospace\">2025-04-13 20:04:30,566<span style=\"color: #767676; text-decoration-color: #767676\"> - </span><span style=\"color: #d787ff; text-decoration-color: #d787ff\">freqtrade.resolvers.strategy_resolver</span><span style=\"color: #767676; text-decoration-color: #767676\"> - </span><span style=\"color: #000080; text-decoration-color: #000080\">INFO</span><span style=\"color: #767676; text-decoration-color: #767676\"> - </span>Strategy using use_custom_stoploss: False\n",
       "</pre>\n"
      ],
      "text/plain": [
       "2025-04-13 20:04:30,566\u001b[38;5;243m - \u001b[0m\u001b[38;5;177mfreqtrade.resolvers.strategy_resolver\u001b[0m\u001b[38;5;243m - \u001b[0m\u001b[34mINFO\u001b[0m\u001b[38;5;243m - \u001b[0mStrategy using use_custom_stoploss: False\n"
      ]
     },
     "metadata": {},
     "output_type": "display_data"
    },
    {
     "data": {
      "text/html": [
       "<pre style=\"white-space:pre;overflow-x:auto;line-height:normal;font-family:Menlo,'DejaVu Sans Mono',consolas,'Courier New',monospace\">2025-04-13 20:04:30,567<span style=\"color: #767676; text-decoration-color: #767676\"> - </span><span style=\"color: #d787ff; text-decoration-color: #d787ff\">freqtrade.resolvers.strategy_resolver</span><span style=\"color: #767676; text-decoration-color: #767676\"> - </span><span style=\"color: #000080; text-decoration-color: #000080\">INFO</span><span style=\"color: #767676; text-decoration-color: #767676\"> - </span>Strategy using process_only_new_candles: True\n",
       "</pre>\n"
      ],
      "text/plain": [
       "2025-04-13 20:04:30,567\u001b[38;5;243m - \u001b[0m\u001b[38;5;177mfreqtrade.resolvers.strategy_resolver\u001b[0m\u001b[38;5;243m - \u001b[0m\u001b[34mINFO\u001b[0m\u001b[38;5;243m - \u001b[0mStrategy using process_only_new_candles: True\n"
      ]
     },
     "metadata": {},
     "output_type": "display_data"
    },
    {
     "data": {
      "text/html": [
       "<pre style=\"white-space:pre;overflow-x:auto;line-height:normal;font-family:Menlo,'DejaVu Sans Mono',consolas,'Courier New',monospace\">2025-04-13 20:04:30,568<span style=\"color: #767676; text-decoration-color: #767676\"> - </span><span style=\"color: #d787ff; text-decoration-color: #d787ff\">freqtrade.resolvers.strategy_resolver</span><span style=\"color: #767676; text-decoration-color: #767676\"> - </span><span style=\"color: #000080; text-decoration-color: #000080\">INFO</span><span style=\"color: #767676; text-decoration-color: #767676\"> - </span>Strategy using order_types: {'entry': 'limit', 'exit': 'limit', 'stoploss': 'limit', 'stoploss_on_exchange': False, \n",
       "'stoploss_on_exchange_interval': 60}\n",
       "</pre>\n"
      ],
      "text/plain": [
       "2025-04-13 20:04:30,568\u001b[38;5;243m - \u001b[0m\u001b[38;5;177mfreqtrade.resolvers.strategy_resolver\u001b[0m\u001b[38;5;243m - \u001b[0m\u001b[34mINFO\u001b[0m\u001b[38;5;243m - \u001b[0mStrategy using order_types: {'entry': 'limit', 'exit': 'limit', 'stoploss': 'limit', 'stoploss_on_exchange': False, \n",
       "'stoploss_on_exchange_interval': 60}\n"
      ]
     },
     "metadata": {},
     "output_type": "display_data"
    },
    {
     "data": {
      "text/html": [
       "<pre style=\"white-space:pre;overflow-x:auto;line-height:normal;font-family:Menlo,'DejaVu Sans Mono',consolas,'Courier New',monospace\">2025-04-13 20:04:30,569<span style=\"color: #767676; text-decoration-color: #767676\"> - </span><span style=\"color: #d787ff; text-decoration-color: #d787ff\">freqtrade.resolvers.strategy_resolver</span><span style=\"color: #767676; text-decoration-color: #767676\"> - </span><span style=\"color: #000080; text-decoration-color: #000080\">INFO</span><span style=\"color: #767676; text-decoration-color: #767676\"> - </span>Strategy using order_time_in_force: {'entry': 'GTC', 'exit': 'GTC'}\n",
       "</pre>\n"
      ],
      "text/plain": [
       "2025-04-13 20:04:30,569\u001b[38;5;243m - \u001b[0m\u001b[38;5;177mfreqtrade.resolvers.strategy_resolver\u001b[0m\u001b[38;5;243m - \u001b[0m\u001b[34mINFO\u001b[0m\u001b[38;5;243m - \u001b[0mStrategy using order_time_in_force: {'entry': 'GTC', 'exit': 'GTC'}\n"
      ]
     },
     "metadata": {},
     "output_type": "display_data"
    },
    {
     "data": {
      "text/html": [
       "<pre style=\"white-space:pre;overflow-x:auto;line-height:normal;font-family:Menlo,'DejaVu Sans Mono',consolas,'Courier New',monospace\">2025-04-13 20:04:30,570<span style=\"color: #767676; text-decoration-color: #767676\"> - </span><span style=\"color: #d787ff; text-decoration-color: #d787ff\">freqtrade.resolvers.strategy_resolver</span><span style=\"color: #767676; text-decoration-color: #767676\"> - </span><span style=\"color: #000080; text-decoration-color: #000080\">INFO</span><span style=\"color: #767676; text-decoration-color: #767676\"> - </span>Strategy using stake_currency: USDT\n",
       "</pre>\n"
      ],
      "text/plain": [
       "2025-04-13 20:04:30,570\u001b[38;5;243m - \u001b[0m\u001b[38;5;177mfreqtrade.resolvers.strategy_resolver\u001b[0m\u001b[38;5;243m - \u001b[0m\u001b[34mINFO\u001b[0m\u001b[38;5;243m - \u001b[0mStrategy using stake_currency: USDT\n"
      ]
     },
     "metadata": {},
     "output_type": "display_data"
    },
    {
     "data": {
      "text/html": [
       "<pre style=\"white-space:pre;overflow-x:auto;line-height:normal;font-family:Menlo,'DejaVu Sans Mono',consolas,'Courier New',monospace\">2025-04-13 20:04:30,570<span style=\"color: #767676; text-decoration-color: #767676\"> - </span><span style=\"color: #d787ff; text-decoration-color: #d787ff\">freqtrade.resolvers.strategy_resolver</span><span style=\"color: #767676; text-decoration-color: #767676\"> - </span><span style=\"color: #000080; text-decoration-color: #000080\">INFO</span><span style=\"color: #767676; text-decoration-color: #767676\"> - </span>Strategy using stake_amount: unlimited\n",
       "</pre>\n"
      ],
      "text/plain": [
       "2025-04-13 20:04:30,570\u001b[38;5;243m - \u001b[0m\u001b[38;5;177mfreqtrade.resolvers.strategy_resolver\u001b[0m\u001b[38;5;243m - \u001b[0m\u001b[34mINFO\u001b[0m\u001b[38;5;243m - \u001b[0mStrategy using stake_amount: unlimited\n"
      ]
     },
     "metadata": {},
     "output_type": "display_data"
    },
    {
     "data": {
      "text/html": [
       "<pre style=\"white-space:pre;overflow-x:auto;line-height:normal;font-family:Menlo,'DejaVu Sans Mono',consolas,'Courier New',monospace\">2025-04-13 20:04:30,571<span style=\"color: #767676; text-decoration-color: #767676\"> - </span><span style=\"color: #d787ff; text-decoration-color: #d787ff\">freqtrade.resolvers.strategy_resolver</span><span style=\"color: #767676; text-decoration-color: #767676\"> - </span><span style=\"color: #000080; text-decoration-color: #000080\">INFO</span><span style=\"color: #767676; text-decoration-color: #767676\"> - </span>Strategy using startup_candle_count: 0\n",
       "</pre>\n"
      ],
      "text/plain": [
       "2025-04-13 20:04:30,571\u001b[38;5;243m - \u001b[0m\u001b[38;5;177mfreqtrade.resolvers.strategy_resolver\u001b[0m\u001b[38;5;243m - \u001b[0m\u001b[34mINFO\u001b[0m\u001b[38;5;243m - \u001b[0mStrategy using startup_candle_count: 0\n"
      ]
     },
     "metadata": {},
     "output_type": "display_data"
    },
    {
     "data": {
      "text/html": [
       "<pre style=\"white-space:pre;overflow-x:auto;line-height:normal;font-family:Menlo,'DejaVu Sans Mono',consolas,'Courier New',monospace\">2025-04-13 20:04:30,572<span style=\"color: #767676; text-decoration-color: #767676\"> - </span><span style=\"color: #d787ff; text-decoration-color: #d787ff\">freqtrade.resolvers.strategy_resolver</span><span style=\"color: #767676; text-decoration-color: #767676\"> - </span><span style=\"color: #000080; text-decoration-color: #000080\">INFO</span><span style=\"color: #767676; text-decoration-color: #767676\"> - </span>Strategy using unfilledtimeout: {'entry': 10, 'exit': 10, 'exit_timeout_count': 0, 'unit': 'minutes'}\n",
       "</pre>\n"
      ],
      "text/plain": [
       "2025-04-13 20:04:30,572\u001b[38;5;243m - \u001b[0m\u001b[38;5;177mfreqtrade.resolvers.strategy_resolver\u001b[0m\u001b[38;5;243m - \u001b[0m\u001b[34mINFO\u001b[0m\u001b[38;5;243m - \u001b[0mStrategy using unfilledtimeout: {'entry': 10, 'exit': 10, 'exit_timeout_count': 0, 'unit': 'minutes'}\n"
      ]
     },
     "metadata": {},
     "output_type": "display_data"
    },
    {
     "data": {
      "text/html": [
       "<pre style=\"white-space:pre;overflow-x:auto;line-height:normal;font-family:Menlo,'DejaVu Sans Mono',consolas,'Courier New',monospace\">2025-04-13 20:04:30,573<span style=\"color: #767676; text-decoration-color: #767676\"> - </span><span style=\"color: #d787ff; text-decoration-color: #d787ff\">freqtrade.resolvers.strategy_resolver</span><span style=\"color: #767676; text-decoration-color: #767676\"> - </span><span style=\"color: #000080; text-decoration-color: #000080\">INFO</span><span style=\"color: #767676; text-decoration-color: #767676\"> - </span>Strategy using use_exit_signal: True\n",
       "</pre>\n"
      ],
      "text/plain": [
       "2025-04-13 20:04:30,573\u001b[38;5;243m - \u001b[0m\u001b[38;5;177mfreqtrade.resolvers.strategy_resolver\u001b[0m\u001b[38;5;243m - \u001b[0m\u001b[34mINFO\u001b[0m\u001b[38;5;243m - \u001b[0mStrategy using use_exit_signal: True\n"
      ]
     },
     "metadata": {},
     "output_type": "display_data"
    },
    {
     "data": {
      "text/html": [
       "<pre style=\"white-space:pre;overflow-x:auto;line-height:normal;font-family:Menlo,'DejaVu Sans Mono',consolas,'Courier New',monospace\">2025-04-13 20:04:30,574<span style=\"color: #767676; text-decoration-color: #767676\"> - </span><span style=\"color: #d787ff; text-decoration-color: #d787ff\">freqtrade.resolvers.strategy_resolver</span><span style=\"color: #767676; text-decoration-color: #767676\"> - </span><span style=\"color: #000080; text-decoration-color: #000080\">INFO</span><span style=\"color: #767676; text-decoration-color: #767676\"> - </span>Strategy using exit_profit_only: False\n",
       "</pre>\n"
      ],
      "text/plain": [
       "2025-04-13 20:04:30,574\u001b[38;5;243m - \u001b[0m\u001b[38;5;177mfreqtrade.resolvers.strategy_resolver\u001b[0m\u001b[38;5;243m - \u001b[0m\u001b[34mINFO\u001b[0m\u001b[38;5;243m - \u001b[0mStrategy using exit_profit_only: False\n"
      ]
     },
     "metadata": {},
     "output_type": "display_data"
    },
    {
     "data": {
      "text/html": [
       "<pre style=\"white-space:pre;overflow-x:auto;line-height:normal;font-family:Menlo,'DejaVu Sans Mono',consolas,'Courier New',monospace\">2025-04-13 20:04:30,575<span style=\"color: #767676; text-decoration-color: #767676\"> - </span><span style=\"color: #d787ff; text-decoration-color: #d787ff\">freqtrade.resolvers.strategy_resolver</span><span style=\"color: #767676; text-decoration-color: #767676\"> - </span><span style=\"color: #000080; text-decoration-color: #000080\">INFO</span><span style=\"color: #767676; text-decoration-color: #767676\"> - </span>Strategy using ignore_roi_if_entry_signal: False\n",
       "</pre>\n"
      ],
      "text/plain": [
       "2025-04-13 20:04:30,575\u001b[38;5;243m - \u001b[0m\u001b[38;5;177mfreqtrade.resolvers.strategy_resolver\u001b[0m\u001b[38;5;243m - \u001b[0m\u001b[34mINFO\u001b[0m\u001b[38;5;243m - \u001b[0mStrategy using ignore_roi_if_entry_signal: False\n"
      ]
     },
     "metadata": {},
     "output_type": "display_data"
    },
    {
     "data": {
      "text/html": [
       "<pre style=\"white-space:pre;overflow-x:auto;line-height:normal;font-family:Menlo,'DejaVu Sans Mono',consolas,'Courier New',monospace\">2025-04-13 20:04:30,576<span style=\"color: #767676; text-decoration-color: #767676\"> - </span><span style=\"color: #d787ff; text-decoration-color: #d787ff\">freqtrade.resolvers.strategy_resolver</span><span style=\"color: #767676; text-decoration-color: #767676\"> - </span><span style=\"color: #000080; text-decoration-color: #000080\">INFO</span><span style=\"color: #767676; text-decoration-color: #767676\"> - </span>Strategy using exit_profit_offset: 0.0\n",
       "</pre>\n"
      ],
      "text/plain": [
       "2025-04-13 20:04:30,576\u001b[38;5;243m - \u001b[0m\u001b[38;5;177mfreqtrade.resolvers.strategy_resolver\u001b[0m\u001b[38;5;243m - \u001b[0m\u001b[34mINFO\u001b[0m\u001b[38;5;243m - \u001b[0mStrategy using exit_profit_offset: 0.0\n"
      ]
     },
     "metadata": {},
     "output_type": "display_data"
    },
    {
     "data": {
      "text/html": [
       "<pre style=\"white-space:pre;overflow-x:auto;line-height:normal;font-family:Menlo,'DejaVu Sans Mono',consolas,'Courier New',monospace\">2025-04-13 20:04:30,576<span style=\"color: #767676; text-decoration-color: #767676\"> - </span><span style=\"color: #d787ff; text-decoration-color: #d787ff\">freqtrade.resolvers.strategy_resolver</span><span style=\"color: #767676; text-decoration-color: #767676\"> - </span><span style=\"color: #000080; text-decoration-color: #000080\">INFO</span><span style=\"color: #767676; text-decoration-color: #767676\"> - </span>Strategy using disable_dataframe_checks: False\n",
       "</pre>\n"
      ],
      "text/plain": [
       "2025-04-13 20:04:30,576\u001b[38;5;243m - \u001b[0m\u001b[38;5;177mfreqtrade.resolvers.strategy_resolver\u001b[0m\u001b[38;5;243m - \u001b[0m\u001b[34mINFO\u001b[0m\u001b[38;5;243m - \u001b[0mStrategy using disable_dataframe_checks: False\n"
      ]
     },
     "metadata": {},
     "output_type": "display_data"
    },
    {
     "data": {
      "text/html": [
       "<pre style=\"white-space:pre;overflow-x:auto;line-height:normal;font-family:Menlo,'DejaVu Sans Mono',consolas,'Courier New',monospace\">2025-04-13 20:04:30,577<span style=\"color: #767676; text-decoration-color: #767676\"> - </span><span style=\"color: #d787ff; text-decoration-color: #d787ff\">freqtrade.resolvers.strategy_resolver</span><span style=\"color: #767676; text-decoration-color: #767676\"> - </span><span style=\"color: #000080; text-decoration-color: #000080\">INFO</span><span style=\"color: #767676; text-decoration-color: #767676\"> - </span>Strategy using ignore_buying_expired_candle_after: 0\n",
       "</pre>\n"
      ],
      "text/plain": [
       "2025-04-13 20:04:30,577\u001b[38;5;243m - \u001b[0m\u001b[38;5;177mfreqtrade.resolvers.strategy_resolver\u001b[0m\u001b[38;5;243m - \u001b[0m\u001b[34mINFO\u001b[0m\u001b[38;5;243m - \u001b[0mStrategy using ignore_buying_expired_candle_after: 0\n"
      ]
     },
     "metadata": {},
     "output_type": "display_data"
    },
    {
     "data": {
      "text/html": [
       "<pre style=\"white-space:pre;overflow-x:auto;line-height:normal;font-family:Menlo,'DejaVu Sans Mono',consolas,'Courier New',monospace\">2025-04-13 20:04:30,578<span style=\"color: #767676; text-decoration-color: #767676\"> - </span><span style=\"color: #d787ff; text-decoration-color: #d787ff\">freqtrade.resolvers.strategy_resolver</span><span style=\"color: #767676; text-decoration-color: #767676\"> - </span><span style=\"color: #000080; text-decoration-color: #000080\">INFO</span><span style=\"color: #767676; text-decoration-color: #767676\"> - </span>Strategy using position_adjustment_enable: False\n",
       "</pre>\n"
      ],
      "text/plain": [
       "2025-04-13 20:04:30,578\u001b[38;5;243m - \u001b[0m\u001b[38;5;177mfreqtrade.resolvers.strategy_resolver\u001b[0m\u001b[38;5;243m - \u001b[0m\u001b[34mINFO\u001b[0m\u001b[38;5;243m - \u001b[0mStrategy using position_adjustment_enable: False\n"
      ]
     },
     "metadata": {},
     "output_type": "display_data"
    },
    {
     "data": {
      "text/html": [
       "<pre style=\"white-space:pre;overflow-x:auto;line-height:normal;font-family:Menlo,'DejaVu Sans Mono',consolas,'Courier New',monospace\">2025-04-13 20:04:30,579<span style=\"color: #767676; text-decoration-color: #767676\"> - </span><span style=\"color: #d787ff; text-decoration-color: #d787ff\">freqtrade.resolvers.strategy_resolver</span><span style=\"color: #767676; text-decoration-color: #767676\"> - </span><span style=\"color: #000080; text-decoration-color: #000080\">INFO</span><span style=\"color: #767676; text-decoration-color: #767676\"> - </span>Strategy using max_entry_position_adjustment: -1\n",
       "</pre>\n"
      ],
      "text/plain": [
       "2025-04-13 20:04:30,579\u001b[38;5;243m - \u001b[0m\u001b[38;5;177mfreqtrade.resolvers.strategy_resolver\u001b[0m\u001b[38;5;243m - \u001b[0m\u001b[34mINFO\u001b[0m\u001b[38;5;243m - \u001b[0mStrategy using max_entry_position_adjustment: -1\n"
      ]
     },
     "metadata": {},
     "output_type": "display_data"
    },
    {
     "data": {
      "text/html": [
       "<pre style=\"white-space:pre;overflow-x:auto;line-height:normal;font-family:Menlo,'DejaVu Sans Mono',consolas,'Courier New',monospace\">2025-04-13 20:04:30,579<span style=\"color: #767676; text-decoration-color: #767676\"> - </span><span style=\"color: #d787ff; text-decoration-color: #d787ff\">freqtrade.resolvers.strategy_resolver</span><span style=\"color: #767676; text-decoration-color: #767676\"> - </span><span style=\"color: #000080; text-decoration-color: #000080\">INFO</span><span style=\"color: #767676; text-decoration-color: #767676\"> - </span>Strategy using max_open_trades: 5\n",
       "</pre>\n"
      ],
      "text/plain": [
       "2025-04-13 20:04:30,579\u001b[38;5;243m - \u001b[0m\u001b[38;5;177mfreqtrade.resolvers.strategy_resolver\u001b[0m\u001b[38;5;243m - \u001b[0m\u001b[34mINFO\u001b[0m\u001b[38;5;243m - \u001b[0mStrategy using max_open_trades: 5\n"
      ]
     },
     "metadata": {},
     "output_type": "display_data"
    },
    {
     "data": {
      "text/html": [
       "<pre style=\"white-space:pre;overflow-x:auto;line-height:normal;font-family:Menlo,'DejaVu Sans Mono',consolas,'Courier New',monospace\">2025-04-13 20:04:30,580<span style=\"color: #767676; text-decoration-color: #767676\"> - </span><span style=\"color: #d787ff; text-decoration-color: #d787ff\">freqtrade.strategy.hyper</span><span style=\"color: #767676; text-decoration-color: #767676\"> - </span><span style=\"color: #000080; text-decoration-color: #000080\">INFO</span><span style=\"color: #767676; text-decoration-color: #767676\"> - </span>No params for buy found, using default values.\n",
       "</pre>\n"
      ],
      "text/plain": [
       "2025-04-13 20:04:30,580\u001b[38;5;243m - \u001b[0m\u001b[38;5;177mfreqtrade.strategy.hyper\u001b[0m\u001b[38;5;243m - \u001b[0m\u001b[34mINFO\u001b[0m\u001b[38;5;243m - \u001b[0mNo params for buy found, using default values.\n"
      ]
     },
     "metadata": {},
     "output_type": "display_data"
    },
    {
     "data": {
      "text/html": [
       "<pre style=\"white-space:pre;overflow-x:auto;line-height:normal;font-family:Menlo,'DejaVu Sans Mono',consolas,'Courier New',monospace\">2025-04-13 20:04:30,592<span style=\"color: #767676; text-decoration-color: #767676\"> - </span><span style=\"color: #d787ff; text-decoration-color: #d787ff\">freqtrade.strategy.hyper</span><span style=\"color: #767676; text-decoration-color: #767676\"> - </span><span style=\"color: #000080; text-decoration-color: #000080\">INFO</span><span style=\"color: #767676; text-decoration-color: #767676\"> - </span>No params for sell found, using default values.\n",
       "</pre>\n"
      ],
      "text/plain": [
       "2025-04-13 20:04:30,592\u001b[38;5;243m - \u001b[0m\u001b[38;5;177mfreqtrade.strategy.hyper\u001b[0m\u001b[38;5;243m - \u001b[0m\u001b[34mINFO\u001b[0m\u001b[38;5;243m - \u001b[0mNo params for sell found, using default values.\n"
      ]
     },
     "metadata": {},
     "output_type": "display_data"
    },
    {
     "data": {
      "text/html": [
       "<pre style=\"white-space:pre;overflow-x:auto;line-height:normal;font-family:Menlo,'DejaVu Sans Mono',consolas,'Courier New',monospace\">2025-04-13 20:04:30,594<span style=\"color: #767676; text-decoration-color: #767676\"> - </span><span style=\"color: #d787ff; text-decoration-color: #d787ff\">freqtrade.strategy.hyper</span><span style=\"color: #767676; text-decoration-color: #767676\"> - </span><span style=\"color: #000080; text-decoration-color: #000080\">INFO</span><span style=\"color: #767676; text-decoration-color: #767676\"> - </span>No params for protection found, using default values.\n",
       "</pre>\n"
      ],
      "text/plain": [
       "2025-04-13 20:04:30,594\u001b[38;5;243m - \u001b[0m\u001b[38;5;177mfreqtrade.strategy.hyper\u001b[0m\u001b[38;5;243m - \u001b[0m\u001b[34mINFO\u001b[0m\u001b[38;5;243m - \u001b[0mNo params for protection found, using default values.\n"
      ]
     },
     "metadata": {},
     "output_type": "display_data"
    },
    {
     "data": {
      "text/html": [
       "<div>\n",
       "<style scoped>\n",
       "    .dataframe tbody tr th:only-of-type {\n",
       "        vertical-align: middle;\n",
       "    }\n",
       "\n",
       "    .dataframe tbody tr th {\n",
       "        vertical-align: top;\n",
       "    }\n",
       "\n",
       "    .dataframe thead th {\n",
       "        text-align: right;\n",
       "    }\n",
       "</style>\n",
       "<table border=\"1\" class=\"dataframe\">\n",
       "  <thead>\n",
       "    <tr style=\"text-align: right;\">\n",
       "      <th></th>\n",
       "      <th>date</th>\n",
       "      <th>open</th>\n",
       "      <th>high</th>\n",
       "      <th>low</th>\n",
       "      <th>close</th>\n",
       "      <th>volume</th>\n",
       "      <th>obv</th>\n",
       "      <th>trend</th>\n",
       "      <th>enter_tag</th>\n",
       "      <th>enter_long</th>\n",
       "      <th>enter_short</th>\n",
       "      <th>exit_tag</th>\n",
       "      <th>exit_long</th>\n",
       "      <th>exit_short</th>\n",
       "    </tr>\n",
       "  </thead>\n",
       "  <tbody>\n",
       "    <tr>\n",
       "      <th>298</th>\n",
       "      <td>2025-04-10 08:00:00+00:00</td>\n",
       "      <td>81561.5</td>\n",
       "      <td>82488.0</td>\n",
       "      <td>78559.0</td>\n",
       "      <td>78731.7</td>\n",
       "      <td>143121.765</td>\n",
       "      <td>-2363101.889</td>\n",
       "      <td>80275.410148</td>\n",
       "      <td></td>\n",
       "      <td>NaN</td>\n",
       "      <td>1.0</td>\n",
       "      <td></td>\n",
       "      <td>NaN</td>\n",
       "      <td>NaN</td>\n",
       "    </tr>\n",
       "    <tr>\n",
       "      <th>299</th>\n",
       "      <td>2025-04-10 16:00:00+00:00</td>\n",
       "      <td>78731.7</td>\n",
       "      <td>80011.8</td>\n",
       "      <td>78416.0</td>\n",
       "      <td>79560.2</td>\n",
       "      <td>87817.839</td>\n",
       "      <td>-2275284.050</td>\n",
       "      <td>80207.294896</td>\n",
       "      <td></td>\n",
       "      <td>NaN</td>\n",
       "      <td>NaN</td>\n",
       "      <td></td>\n",
       "      <td>NaN</td>\n",
       "      <td>NaN</td>\n",
       "    </tr>\n",
       "    <tr>\n",
       "      <th>300</th>\n",
       "      <td>2025-04-11 00:00:00+00:00</td>\n",
       "      <td>79560.3</td>\n",
       "      <td>81388.0</td>\n",
       "      <td>78935.5</td>\n",
       "      <td>81213.6</td>\n",
       "      <td>71931.272</td>\n",
       "      <td>-2203352.778</td>\n",
       "      <td>80303.133477</td>\n",
       "      <td></td>\n",
       "      <td>1.0</td>\n",
       "      <td>NaN</td>\n",
       "      <td></td>\n",
       "      <td>NaN</td>\n",
       "      <td>NaN</td>\n",
       "    </tr>\n",
       "    <tr>\n",
       "      <th>301</th>\n",
       "      <td>2025-04-11 08:00:00+00:00</td>\n",
       "      <td>81213.7</td>\n",
       "      <td>83297.9</td>\n",
       "      <td>80691.3</td>\n",
       "      <td>82486.7</td>\n",
       "      <td>148681.007</td>\n",
       "      <td>-2054671.771</td>\n",
       "      <td>80511.092194</td>\n",
       "      <td></td>\n",
       "      <td>NaN</td>\n",
       "      <td>NaN</td>\n",
       "      <td></td>\n",
       "      <td>NaN</td>\n",
       "      <td>NaN</td>\n",
       "    </tr>\n",
       "    <tr>\n",
       "      <th>302</th>\n",
       "      <td>2025-04-11 16:00:00+00:00</td>\n",
       "      <td>82486.8</td>\n",
       "      <td>84300.0</td>\n",
       "      <td>81968.0</td>\n",
       "      <td>83378.3</td>\n",
       "      <td>75165.592</td>\n",
       "      <td>-1979506.179</td>\n",
       "      <td>80784.159604</td>\n",
       "      <td></td>\n",
       "      <td>NaN</td>\n",
       "      <td>NaN</td>\n",
       "      <td></td>\n",
       "      <td>NaN</td>\n",
       "      <td>NaN</td>\n",
       "    </tr>\n",
       "  </tbody>\n",
       "</table>\n",
       "</div>"
      ],
      "text/plain": [
       "                         date     open     high      low    close      volume  \\\n",
       "298 2025-04-10 08:00:00+00:00  81561.5  82488.0  78559.0  78731.7  143121.765   \n",
       "299 2025-04-10 16:00:00+00:00  78731.7  80011.8  78416.0  79560.2   87817.839   \n",
       "300 2025-04-11 00:00:00+00:00  79560.3  81388.0  78935.5  81213.6   71931.272   \n",
       "301 2025-04-11 08:00:00+00:00  81213.7  83297.9  80691.3  82486.7  148681.007   \n",
       "302 2025-04-11 16:00:00+00:00  82486.8  84300.0  81968.0  83378.3   75165.592   \n",
       "\n",
       "             obv         trend enter_tag  enter_long  enter_short exit_tag  \\\n",
       "298 -2363101.889  80275.410148                   NaN          1.0            \n",
       "299 -2275284.050  80207.294896                   NaN          NaN            \n",
       "300 -2203352.778  80303.133477                   1.0          NaN            \n",
       "301 -2054671.771  80511.092194                   NaN          NaN            \n",
       "302 -1979506.179  80784.159604                   NaN          NaN            \n",
       "\n",
       "     exit_long  exit_short  \n",
       "298        NaN         NaN  \n",
       "299        NaN         NaN  \n",
       "300        NaN         NaN  \n",
       "301        NaN         NaN  \n",
       "302        NaN         NaN  "
      ]
     },
     "execution_count": 5,
     "metadata": {},
     "output_type": "execute_result"
    }
   ],
   "source": [
    "# Load strategy using values set above\n",
    "\n",
    "\n",
    "\n",
    "strategy = StrategyResolver.load_strategy(config)\n",
    "strategy.dp = DataProvider(config, None, None)\n",
    "strategy.ft_bot_start()\n",
    "\n",
    "# Generate buy/sell signals using strategy\n",
    "df = strategy.analyze_ticker(candles, {\"pair\": pair})\n",
    "df.tail()\n"
   ]
  },
  {
   "cell_type": "markdown",
   "metadata": {},
   "source": [
    "### Display the trade details\n",
    "\n",
    "* Note that using `data.head()` would also work, however most indicators have some \"startup\" data at the top of the dataframe.\n",
    "* Some possible problems\n",
    "    * Columns with NaN values at the end of the dataframe\n",
    "    * Columns used in `crossed*()` functions with completely different units\n",
    "* Comparison with full backtest\n",
    "    * having 200 buy signals as output for one pair from `analyze_ticker()` does not necessarily mean that 200 trades will be made during backtesting.\n",
    "    * Assuming you use only one condition such as, `df['rsi'] < 30` as buy condition, this will generate multiple \"buy\" signals for each pair in sequence (until rsi returns > 29). The bot will only buy on the first of these signals (and also only if a trade-slot (\"max_open_trades\") is still available), or on one of the middle signals, as soon as a \"slot\" becomes available.  \n"
   ]
  },
  {
   "cell_type": "code",
   "execution_count": null,
   "metadata": {},
   "outputs": [],
   "source": [
    "# Report results\n",
    "print(f\"Generated {df['enter_long'].sum()} entry signals\")\n",
    "data = df.set_index(\"date\", drop=False)\n",
    "data.tail()\n"
   ]
  },
  {
   "cell_type": "markdown",
   "metadata": {
    "jp-MarkdownHeadingCollapsed": true
   },
   "source": [
    "## Load existing objects into a Jupyter notebook\n",
    "\n",
    "The following cells assume that you have already generated data using the cli.  \n",
    "They will allow you to drill deeper into your results, and perform analysis which otherwise would make the output very difficult to digest due to information overload."
   ]
  },
  {
   "cell_type": "markdown",
   "metadata": {},
   "source": [
    "### Load backtest results to pandas dataframe\n",
    "\n",
    "Analyze a trades dataframe (also used below for plotting)"
   ]
  },
  {
   "cell_type": "code",
   "execution_count": null,
   "metadata": {},
   "outputs": [],
   "source": [
    "from freqtrade.data.btanalysis import load_backtest_data, load_backtest_stats\n",
    "\n",
    "\n",
    "# if backtest_dir points to a directory, it'll automatically load the last backtest file.\n",
    "backtest_dir = config[\"user_data_dir\"] / \"backtest_results\"\n",
    "# backtest_dir can also point to a specific file\n",
    "# backtest_dir = (\n",
    "#   config[\"user_data_dir\"] / \"backtest_results/backtest-result-2020-07-01_20-04-22.json\"\n",
    "# )\n"
   ]
  },
  {
   "cell_type": "code",
   "execution_count": null,
   "metadata": {},
   "outputs": [],
   "source": [
    "# You can get the full backtest statistics by using the following command.\n",
    "# This contains all information used to generate the backtest result.\n",
    "stats = load_backtest_stats(backtest_dir)\n",
    "\n",
    "strategy = \"SampleStrategy\"\n",
    "# All statistics are available per strategy, so if `--strategy-list` was used during backtest,\n",
    "# this will be reflected here as well.\n",
    "# Example usages:\n",
    "print(stats[\"strategy\"][strategy][\"results_per_pair\"])\n",
    "# Get pairlist used for this backtest\n",
    "print(stats[\"strategy\"][strategy][\"pairlist\"])\n",
    "# Get market change (average change of all pairs from start to end of the backtest period)\n",
    "print(stats[\"strategy\"][strategy][\"market_change\"])\n",
    "# Maximum drawdown ()\n",
    "print(stats[\"strategy\"][strategy][\"max_drawdown_abs\"])\n",
    "# Maximum drawdown start and end\n",
    "print(stats[\"strategy\"][strategy][\"drawdown_start\"])\n",
    "print(stats[\"strategy\"][strategy][\"drawdown_end\"])\n",
    "\n",
    "\n",
    "# Get strategy comparison (only relevant if multiple strategies were compared)\n",
    "print(stats[\"strategy_comparison\"])\n"
   ]
  },
  {
   "cell_type": "code",
   "execution_count": null,
   "metadata": {},
   "outputs": [],
   "source": [
    "# Load backtested trades as dataframe\n",
    "trades = load_backtest_data(backtest_dir)\n",
    "\n",
    "# Show value-counts per pair\n",
    "trades.groupby(\"pair\")[\"exit_reason\"].value_counts()\n"
   ]
  },
  {
   "cell_type": "markdown",
   "metadata": {
    "jp-MarkdownHeadingCollapsed": true
   },
   "source": [
    "## Plotting daily profit / equity line"
   ]
  },
  {
   "cell_type": "code",
   "execution_count": null,
   "metadata": {},
   "outputs": [],
   "source": [
    "# Plotting equity line (starting with 0 on day 1 and adding daily profit for each backtested day)\n",
    "\n",
    "import pandas as pd\n",
    "import plotly.express as px\n",
    "\n",
    "from freqtrade.configuration import Configuration\n",
    "from freqtrade.data.btanalysis import load_backtest_stats\n",
    "\n",
    "\n",
    "# strategy = 'SampleStrategy'\n",
    "# config = Configuration.from_files([\"user_data/config.json\"])\n",
    "# backtest_dir = config[\"user_data_dir\"] / \"backtest_results\"\n",
    "\n",
    "stats = load_backtest_stats(backtest_dir)\n",
    "strategy_stats = stats[\"strategy\"][strategy]\n",
    "\n",
    "df = pd.DataFrame(columns=[\"dates\", \"equity\"], data=strategy_stats[\"daily_profit\"])\n",
    "df[\"equity_daily\"] = df[\"equity\"].cumsum()\n",
    "\n",
    "fig = px.line(df, x=\"dates\", y=\"equity_daily\")\n",
    "fig.show()\n"
   ]
  },
  {
   "cell_type": "markdown",
   "metadata": {},
   "source": [
    "### Load live trading results into a pandas dataframe\n",
    "\n",
    "In case you did already some trading and want to analyze your performance"
   ]
  },
  {
   "cell_type": "code",
   "execution_count": null,
   "metadata": {},
   "outputs": [],
   "source": [
    "from freqtrade.data.btanalysis import load_trades_from_db\n",
    "\n",
    "\n",
    "# Fetch trades from database\n",
    "trades = load_trades_from_db(\"sqlite:///tradesv3.sqlite\")\n",
    "\n",
    "# Display results\n",
    "trades.groupby(\"pair\")[\"exit_reason\"].value_counts()\n"
   ]
  },
  {
   "cell_type": "markdown",
   "metadata": {
    "jp-MarkdownHeadingCollapsed": true
   },
   "source": [
    "## Analyze the loaded trades for trade parallelism\n",
    "This can be useful to find the best `max_open_trades` parameter, when used with backtesting in conjunction with a very high `max_open_trades` setting.\n",
    "\n",
    "`analyze_trade_parallelism()` returns a timeseries dataframe with an \"open_trades\" column, specifying the number of open trades for each candle."
   ]
  },
  {
   "cell_type": "code",
   "execution_count": null,
   "metadata": {},
   "outputs": [],
   "source": [
    "from freqtrade.data.btanalysis import analyze_trade_parallelism\n",
    "\n",
    "\n",
    "# Analyze the above\n",
    "parallel_trades = analyze_trade_parallelism(trades, \"5m\")\n",
    "\n",
    "parallel_trades.plot()\n"
   ]
  },
  {
   "cell_type": "markdown",
   "metadata": {
    "jp-MarkdownHeadingCollapsed": true
   },
   "source": [
    "## Plot results\n",
    "\n",
    "Freqtrade offers interactive plotting capabilities based on plotly."
   ]
  },
  {
   "cell_type": "code",
   "execution_count": null,
   "metadata": {},
   "outputs": [],
   "source": [
    "from freqtrade.plot.plotting import generate_candlestick_graph\n",
    "\n",
    "\n",
    "# Limit graph period to keep plotly quick and reactive\n",
    "\n",
    "# Filter trades to one pair\n",
    "trades_red = trades.loc[trades[\"pair\"] == pair]\n",
    "\n",
    "data_red = data[\"2019-06-01\":\"2019-06-10\"]\n",
    "# Generate candlestick graph\n",
    "graph = generate_candlestick_graph(\n",
    "    pair=pair,\n",
    "    data=data_red,\n",
    "    trades=trades_red,\n",
    "    indicators1=[\"sma20\", \"ema50\", \"ema55\"],\n",
    "    indicators2=[\"rsi\", \"macd\", \"macdsignal\", \"macdhist\"],\n",
    ")\n"
   ]
  },
  {
   "cell_type": "code",
   "execution_count": null,
   "metadata": {},
   "outputs": [],
   "source": [
    "# Show graph inline\n",
    "# graph.show()\n",
    "\n",
    "# Render graph in a separate window\n",
    "graph.show(renderer=\"browser\")\n"
   ]
  },
  {
   "cell_type": "markdown",
   "metadata": {
    "jp-MarkdownHeadingCollapsed": true
   },
   "source": [
    "## Plot average profit per trade as distribution graph"
   ]
  },
  {
   "cell_type": "code",
   "execution_count": null,
   "metadata": {},
   "outputs": [],
   "source": [
    "import plotly.figure_factory as ff\n",
    "\n",
    "\n",
    "hist_data = [trades.profit_ratio]\n",
    "group_labels = [\"profit_ratio\"]  # name of the dataset\n",
    "\n",
    "fig = ff.create_distplot(hist_data, group_labels, bin_size=0.01)\n",
    "fig.show()\n"
   ]
  },
  {
   "cell_type": "markdown",
   "metadata": {},
   "source": [
    "Feel free to submit an issue or Pull Request enhancing this document if you would like to share ideas on how to best analyze the data."
   ]
  }
 ],
 "metadata": {
  "file_extension": ".py",
  "kernelspec": {
   "display_name": "Python 3 (ipykernel)",
   "language": "python",
   "name": "python3"
  },
  "language_info": {
   "codemirror_mode": {
    "name": "ipython",
    "version": 3
   },
   "file_extension": ".py",
   "mimetype": "text/x-python",
   "name": "python",
   "nbconvert_exporter": "python",
   "pygments_lexer": "ipython3",
   "version": "3.12.8"
  },
  "mimetype": "text/x-python",
  "name": "python",
  "npconvert_exporter": "python",
  "pygments_lexer": "ipython3",
  "toc": {
   "base_numbering": 1,
   "nav_menu": {},
   "number_sections": true,
   "sideBar": true,
   "skip_h1_title": false,
   "title_cell": "Table of Contents",
   "title_sidebar": "Contents",
   "toc_cell": false,
   "toc_position": {},
   "toc_section_display": true,
   "toc_window_display": false
  },
  "varInspector": {
   "cols": {
    "lenName": 16,
    "lenType": 16,
    "lenVar": 40
   },
   "kernels_config": {
    "python": {
     "delete_cmd_postfix": "",
     "delete_cmd_prefix": "del ",
     "library": "var_list.py",
     "varRefreshCmd": "print(var_dic_list())"
    },
    "r": {
     "delete_cmd_postfix": ") ",
     "delete_cmd_prefix": "rm(",
     "library": "var_list.r",
     "varRefreshCmd": "cat(var_dic_list()) "
    }
   },
   "types_to_exclude": [
    "module",
    "function",
    "builtin_function_or_method",
    "instance",
    "_Feature"
   ],
   "window_display": false
  },
  "version": 3
 },
 "nbformat": 4,
 "nbformat_minor": 4
}
